{
 "cells": [
  {
   "cell_type": "code",
   "execution_count": null,
   "metadata": {},
   "outputs": [],
   "source": [
    "import os\n",
    "import json\n",
    "import torch\n",
    "import sys\n",
    "module_path = os.path.abspath(os.path.join('..'))\n",
    "if module_path not in sys.path:\n",
    "    sys.path.append(module_path)\n",
    "os.environ['CUDAIDX'] = 'cuda:0'\n",
    "import random\n",
    "random.seed(42)"
   ]
  },
  {
   "cell_type": "code",
   "execution_count": null,
   "metadata": {},
   "outputs": [],
   "source": [
    "%env OPENAI_API_KEY=xxx\n",
    "%env OPENAI_API_BASE=xxx"
   ]
  },
  {
   "cell_type": "code",
   "execution_count": null,
   "metadata": {},
   "outputs": [],
   "source": [
    "from PIL import Image\n",
    "from IPython.core.display import HTML\n",
    "from functools import partial\n",
    "from pathlib import Path\n",
    "\n",
    "from engine.utils import ProgramGenerator, ProgramInterpreter\n",
    "from prompts.kilogram import KILOGRAM_CURATED_EXAMPLES"
   ]
  },
  {
   "cell_type": "code",
   "execution_count": null,
   "metadata": {},
   "outputs": [],
   "source": [
    "interpreter = ProgramInterpreter(dataset='kilogram')"
   ]
  },
  {
   "cell_type": "code",
   "execution_count": null,
   "metadata": {},
   "outputs": [],
   "source": [
    "def create_prompt(inputs,num_prompts=8,method='random',seed=42,group=0):\n",
    "    if method=='all':\n",
    "        prompt_examples = KILOGRAM_CURATED_EXAMPLES\n",
    "    elif method=='random':\n",
    "        random.seed(seed)\n",
    "        prompt_examples = random.sample(KILOGRAM_CURATED_EXAMPLES,num_prompts)\n",
    "    else:\n",
    "        raise NotImplementedError\n",
    "\n",
    "    prompt_examples = '\\n'.join(prompt_examples)\n",
    "    prompt_examples = f\"\"\"Considering the examples provided:\\n\\n\n",
    "    {prompt_examples}\n",
    "    \"\"\"\n",
    "    return prompt_examples + \"\\nInstruction: {instruction}\\nProgram:\".format(**inputs)\n",
    "   \n",
    "prompter = partial(create_prompt,method='all')\n",
    "generator = ProgramGenerator(prompter=prompter,dataset='kilogram')"
   ]
  },
  {
   "cell_type": "code",
   "execution_count": null,
   "metadata": {},
   "outputs": [],
   "source": [
    "from tqdm import tqdm\n",
    "from PIL import ImageDraw\n",
    "test_file = os.path.join(Path.home(), 'codes/ExoViP/datasets/kilogram/test_whole.json')\n",
    "with open(test_file) as jp:\n",
    "    test = json.load(jp)\n",
    "eval_pred = 0\n",
    "eval_cnt = 0\n",
    "\n",
    "for idx, dct in tqdm(test.items()):\n",
    "    \n",
    "    # eval_cnt += 1\n",
    "    # if eval_cnt < 35: continue\n",
    "    \n",
    "    img_ids = dct['images']\n",
    "    assert idx == img_ids[0]\n",
    "    img_paths = [os.path.join(Path.home(), 'codes/ExoViP/datasets/kilogram/imgs', img_id+'.png') for img_id in img_ids]\n",
    "    images = []\n",
    "    for img_path in img_paths:\n",
    "        image = Image.open(img_path)\n",
    "        # display(image)\n",
    "        image.thumbnail((224,224))\n",
    "        images.append(image.convert('RGB'))\n",
    "    init_state = dict(\n",
    "        IMAGE=images,\n",
    "        CT_SCORE=0\n",
    "    )    \n",
    "    instruction = dct['texts'][0]\n",
    "    \n",
    "    # prog,_ = generator.generate(dict(instruction=instruction))\n",
    "    # # print(prog)\n",
    "    # # print(instruction)\n",
    "    # result, prog_state = interpreter.execute(prog,init_state,inspect=False)\n",
    "    \n",
    "    initial_prompts = []\n",
    "    initial_prompts.append(generator.generate_prompt(dict(instruction=instruction)))\n",
    "    prompt_examples = KILOGRAM_CURATED_EXAMPLES\n",
    "    pre_instruct = \"Think step by step to carry out the instruction. \\\n",
    "            while taking rejected solutions into account and learning from them. Here are evaluated solutions that were rejected: {rejected_solutions}\\n\\n \\\n",
    "                Answer the question without making the same mistakes you did with the evaluated rejected solutions. Be simple, Be direct, don't repeat or reply other thing \\n\\n \\\n",
    "                    Applicable modules include:  PART, SEGS, ALIGN, RESULT\\\n",
    "                        Following the examples provided:\\n\\n\"\n",
    "\n",
    "    # result, ct_score, cd_score = interpreter.aug_execute(initial_prompts, init_state, instruction, pre_instruct, prompt_examples, inspect=False, task='kilogram')\n",
    "    \n",
    "    try:\n",
    "        result, ct_score, cd_score = interpreter.aug_execute(initial_prompts, init_state, instruction, pre_instruct, prompt_examples, inspect=False, task='kilogram')\n",
    "        # prog,_ = generator.generate(dict(instruction=instruction))\n",
    "        # result, prog_state = interpreter.execute(prog,init_state,inspect=False)\n",
    "    except Exception as e:\n",
    "        print(e)\n",
    "        result = -1\n",
    "    \n",
    "    test[idx]['predict'] = result\n",
    "    eval_pred += int(result == 0)\n",
    "    eval_cnt += 1\n",
    "    \n",
    "    if eval_cnt % 100 == 0:\n",
    "        print(f'step {eval_cnt} accuracy: ', round(eval_pred/eval_cnt, 2))\n",
    "        \n",
    "\n",
    "print('accuracy: ', eval_pred/len(test.keys()))\n",
    "result_file = os.path.join(Path.home(), 'codes/ExoViP/results/kilogram/exovip_kilogram.json')\n",
    "with open(result_file, 'w') as jp:\n",
    "    json.dump(test, jp)    "
   ]
  },
  {
   "cell_type": "code",
   "execution_count": null,
   "metadata": {},
   "outputs": [],
   "source": []
  }
 ],
 "metadata": {
  "kernelspec": {
   "display_name": "Python 3 (ipykernel)",
   "language": "python",
   "name": "python3"
  },
  "language_info": {
   "codemirror_mode": {
    "name": "ipython",
    "version": 3
   },
   "file_extension": ".py",
   "mimetype": "text/x-python",
   "name": "python",
   "nbconvert_exporter": "python",
   "pygments_lexer": "ipython3",
   "version": "3.8.13"
  }
 },
 "nbformat": 4,
 "nbformat_minor": 4
}
