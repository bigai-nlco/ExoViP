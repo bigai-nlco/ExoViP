{
 "cells": [
  {
   "cell_type": "code",
   "execution_count": null,
   "metadata": {},
   "outputs": [],
   "source": [
    "import os\n",
    "import sys\n",
    "module_path = os.path.abspath(os.path.join('..'))\n",
    "if module_path not in sys.path:\n",
    "    sys.path.append(module_path)\n",
    "os.environ['CUDAIDX'] = 'cuda:0'\n",
    "import random\n",
    "random.seed(42)"
   ]
  },
  {
   "cell_type": "code",
   "execution_count": null,
   "metadata": {},
   "outputs": [],
   "source": [
    "%env OPENAI_API_KEY=xxx\n",
    "%env OPENAI_API_BASE=xxx"
   ]
  },
  {
   "cell_type": "code",
   "execution_count": null,
   "metadata": {},
   "outputs": [],
   "source": [
    "import json\n",
    "from PIL import Image\n",
    "from IPython.core.display import HTML\n",
    "from functools import partial\n",
    "from pathlib import Path\n",
    "\n",
    "from engine.utils import ProgramGenerator, ProgramInterpreter\n",
    "from prompts.nlvr import NLVR_CURATED_EXAMPLES"
   ]
  },
  {
   "cell_type": "code",
   "execution_count": null,
   "metadata": {},
   "outputs": [],
   "source": [
    "interpreter = ProgramInterpreter(dataset='nlvr')"
   ]
  },
  {
   "cell_type": "code",
   "execution_count": null,
   "metadata": {},
   "outputs": [],
   "source": [
    "def create_prompt(inputs,num_prompts=8,method='random',seed=42,group=0):\n",
    "    if method=='all':\n",
    "        prompt_examples = NLVR_CURATED_EXAMPLES\n",
    "    elif method=='random':\n",
    "        random.seed(seed)\n",
    "        prompt_examples = random.sample(NLVR_CURATED_EXAMPLES,num_prompts)\n",
    "    else:\n",
    "        raise NotImplementedError\n",
    "\n",
    "    prompt_examples = '\\n'.join(prompt_examples)\n",
    "    prompt_examples = f\"\"\"Considering the examples provided:\\n\\n\n",
    "    {prompt_examples}\n",
    "    \"\"\"\n",
    "    return prompt_examples + \"\\nStatement: {statement}\\nProgram:\".format(**inputs)\n",
    "\n",
    "prompter = partial(create_prompt,method='all')\n",
    "generator = ProgramGenerator(prompter=prompter,dataset='nlvr')\n"
   ]
  },
  {
   "cell_type": "code",
   "execution_count": null,
   "metadata": {
    "tags": []
   },
   "outputs": [],
   "source": [
    "from tqdm import tqdm\n",
    "test_file = os.path.join(Path.home(), 'codes/ExoViP/datasets/nlvr2/test.json')\n",
    "with open(test_file) as jp:\n",
    "    test = json.load(jp)\n",
    "eval_pred = 0\n",
    "eval_cnt = 0\n",
    "        \n",
    "for idx, dct in tqdm(test.items()):\n",
    "    left_img_id = dct['left']\n",
    "    left_img_path = os.path.join(Path.home(), 'codes/ExoViP/datasets/nlvr2/imgs', left_img_id)\n",
    "    left_image = Image.open(left_img_path)\n",
    "    left_image.thumbnail((640, 640), Image.Resampling.LANCZOS)\n",
    "    right_img_id = dct['right']\n",
    "    right_img_path = os.path.join(Path.home(), 'codes/ExoViP/datasets/nlvr2/imgs', right_img_id)\n",
    "    right_image = Image.open(right_img_path)\n",
    "    right_image.thumbnail((640, 640), Image.Resampling.LANCZOS)\n",
    "    init_state = dict(\n",
    "        LEFT=left_image.convert('RGB'),\n",
    "        RIGHT=right_image.convert('RGB'),\n",
    "        CT_SCORE=0\n",
    "    )\n",
    "    statement = dct['sentence']\n",
    "    if 'predcit ' not in test[idx]:\n",
    "        # prog,_ = generator.generate(dict(statement=statement))\n",
    "        # result, prog_state = interpreter.execute(prog, init_state, inspect=False)\n",
    "        initial_prompts = []\n",
    "        initial_prompts.append(generator.generate_prompt(dict(statement=statement)))\n",
    "        prompt_examples = NLVR_CURATED_EXAMPLES\n",
    "        pre_instruct = \"Think step by step if the statement is True or False. \\\n",
    "            while taking rejected solutions into account and learning from them. Here are evaluated solutions that were rejected: {rejected_solutions}\\n\\n \\\n",
    "                Answer the question without making the same mistakes you did with the evaluated rejected solutions. Be simple, Be direct, don't reply other thing \\n\\n \\\n",
    "                    Applicable modules include: VQA, EVAL, RESULT \\\n",
    "                        Following the examples provided:\\n\\n\"\n",
    "        \n",
    "        result, ct_score, cd_score = interpreter.aug_execute(initial_prompts, init_state, statement, pre_instruct, prompt_examples, task='nlvr')\n",
    "        \n",
    "        test[idx]['predict'] = result\n",
    "    else:\n",
    "        result = test[idx]['predict']\n",
    "    label = eval(dct['label'])\n",
    "    \n",
    "    # ############### eval #####################\n",
    "    # if result != 'NA' and result != label:\n",
    "    #     prog, _ = generator.generate(dict(statement=statement))\n",
    "    #     print(prog)\n",
    "    #     reuslt, prog_state, html_str = interpreter.execute(prog, init_state, inspect=True)\n",
    "    #     print(statement)\n",
    "    #     print(label)\n",
    "    #     print(result)\n",
    "    #     display(HTML(html_str))\n",
    "    # ###########################################\n",
    "    \n",
    "    print('result: ', result)\n",
    "    print('label: ', label)\n",
    "    \n",
    "    eval_pred += int(result == label)\n",
    "    eval_cnt += 1\n",
    "    if eval_cnt % 10  == 0:\n",
    "        # break\n",
    "        print(f'step {eval_cnt} accuracy: ', round(eval_pred/eval_cnt, 2))\n",
    "\n",
    "print('accuracy: ', eval_pred/len(test.keys()))\n",
    "\n",
    "result_file = os.path.join(Path.home(), 'codes/ExoViP/results/nlvr2/exovip_nlvr.json')\n",
    "with open(result_file, 'w') as jp:\n",
    "    json.dump(test, jp)\n"
   ]
  },
  {
   "cell_type": "code",
   "execution_count": null,
   "metadata": {},
   "outputs": [],
   "source": []
  }
 ],
 "metadata": {
  "kernelspec": {
   "display_name": "Python 3 (ipykernel)",
   "language": "python",
   "name": "python3"
  },
  "language_info": {
   "codemirror_mode": {
    "name": "ipython",
    "version": 3
   },
   "file_extension": ".py",
   "mimetype": "text/x-python",
   "name": "python",
   "nbconvert_exporter": "python",
   "pygments_lexer": "ipython3",
   "version": "3.8.13"
  }
 },
 "nbformat": 4,
 "nbformat_minor": 4
}
