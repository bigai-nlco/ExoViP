{
 "cells": [
  {
   "cell_type": "code",
   "execution_count": null,
   "metadata": {},
   "outputs": [],
   "source": [
    "import os\n",
    "import sys\n",
    "import json\n",
    "from pathlib import Path\n",
    "module_path = os.path.abspath(os.path.join('..'))\n",
    "if module_path not in sys.path:\n",
    "    sys.path.append(module_path)\n",
    "os.environ['CUDAIDX'] = 'cuda:0'\n",
    "import numpy as np\n",
    "\n",
    "import random\n",
    "random.seed(42)"
   ]
  },
  {
   "cell_type": "code",
   "execution_count": null,
   "metadata": {},
   "outputs": [],
   "source": [
    "%env OPENAI_API_KEY=xxx\n",
    "%env OPENAI_API_BASE=xxx"
   ]
  },
  {
   "cell_type": "code",
   "execution_count": null,
   "metadata": {
    "editable": true,
    "slideshow": {
     "slide_type": ""
    },
    "tags": []
   },
   "outputs": [],
   "source": [
    "from PIL import Image\n",
    "from IPython.display import HTML, display\n",
    "from functools import partial\n",
    "\n",
    "from engine.utils import ProgramGenerator, ProgramInterpreter\n",
    "from prompts.agqa import AGQA_CURATED_EXAMPLES"
   ]
  },
  {
   "cell_type": "code",
   "execution_count": null,
   "metadata": {},
   "outputs": [],
   "source": [
    "interpreter = ProgramInterpreter(dataset='gqa')"
   ]
  },
  {
   "cell_type": "code",
   "execution_count": null,
   "metadata": {},
   "outputs": [],
   "source": [
    "def create_prompt(inputs,num_prompts=8,method='random',seed=42,group=0):\n",
    "    if method=='all':\n",
    "        prompt_examples = AGQA_CURATED_EXAMPLES\n",
    "    elif method=='random':\n",
    "        # random.seed(seed)\n",
    "        prompt_examples = random.sample(AGQA_CURATED_EXAMPLES,num_prompts)\n",
    "    else:\n",
    "        raise NotImplementedError\n",
    "\n",
    "    prompt_examples = '\\n'.join(prompt_examples)\n",
    "    prompt_examples = f\"\"\"Considering the examples provided:\\n\\n\n",
    "    {prompt_examples}\n",
    "    \"\"\"\n",
    "\n",
    "    return prompt_examples + \"\\nQuestion: {question}\\nProgram:\".format(**inputs)\n",
    "prompter = partial(create_prompt,method='all')\n",
    "generator = ProgramGenerator(prompter=prompter,dataset='gqa')"
   ]
  },
  {
   "cell_type": "code",
   "execution_count": null,
   "metadata": {
    "editable": true,
    "slideshow": {
     "slide_type": ""
    },
    "tags": []
   },
   "outputs": [],
   "source": [
    "from tqdm import tqdm\n",
    "test_file = os.path.join(Path.home(), 'codes/ExoViP/datasets/agqa/test.json')\n",
    "with open(test_file) as jp:\n",
    "    test = json.load(jp)\n",
    "eval_pred = 0\n",
    "eval_cnt = 0\n",
    "eval_ct_score = 0\n",
    "eval_ct_cnt = 0\n",
    "\n",
    "for idx, dct in tqdm(test.items()):\n",
    "    video_id = dct['video_id']\n",
    "    video_dir_path = os.path.join(Path.home(), 'codes/visjoint/datasets/agqa/imgs', video_id)\n",
    "    img_paths = sorted(os.listdir(video_dir_path))\n",
    "    img_paths = [os.path.join(video_dir_path, i) for i in img_paths]\n",
    "    # uniform sample 6 frames\n",
    "    intv = np.linspace(start=0, stop=len(img_paths), num=7).astype(int)\n",
    "    img_idxs = [(intv[i]+intv[i+1]-1)//2 for i in range(len(intv)-1)]\n",
    "    assert len(img_idxs) == 6\n",
    "    img_paths = [img_paths[i] for i in img_idxs]\n",
    "    images = [Image.open(img).convert(\"RGB\") for img in img_paths]\n",
    "    init_state = dict(\n",
    "        IMAGE=images,\n",
    "        CT_SCORE=0,\n",
    "    )\n",
    "\n",
    "    question = dct['question']\n",
    "    answer = dct['answer']\n",
    "\n",
    "    if 'predict' not in test[idx]:\n",
    "        # prog,_ = generator.generate(dict(question=question))\n",
    "        # result, prog_state = interpreter.execute(prog,init_state,inspect=False)\n",
    "        # break\n",
    "        results = []\n",
    "        ct_scores = []\n",
    "        \n",
    "        initial_prompts = []\n",
    "        # initial_prompts.append(generator.generate_prompt(dict(question=question)))\n",
    "        initial_prompts.append(generator.generate_prompt(dict(question=question)))\n",
    "        prompt_examples = AGQA_CURATED_EXAMPLES\n",
    "        pre_instruct = \"Think step by step to answer the question. \\\n",
    "            while taking rejected solutions into account and learning from them. Here are evaluated solutions that were rejected: {rejected_solutions}\\n\\n \\\n",
    "                Answer the question without making the same mistakes you did with the evaluated rejected solutions. Be simple, Be direct, don't repeat or reply other thing \\n\\n \\\n",
    "                    Applicable modules include: FIND, VQA, EVAL, RESULT, MEASURE, GET/GET_BEFORE/GET_AFTER/GET_BETWEEN, CROP/CROP_RIGHTOF/CROP_LEFT/CROP_FRONTOF/CROP_INFRONTOF/CROP_INFRONT/CROP_BEHIND/CROP_AHEAD/CROP_BELOW/CROP_ABOVE \\\n",
    "                        Following the examples provided:\\n\\n\"\n",
    "        # pre_instruct =  \"\\nQuestion: {question}\\nProgram:\"\n",
    "        # initial_instruct = \"Here are evaluated solutions that were rejected: ###{rejected_solutions}###\" + \"without making the same mistakes you did with the evaluated rejected solutions. Be simple, Don't response anything unrelated to program\\nQuestion: {question}\\nProgram:\"\n",
    "        \n",
    "        result, ct_score, cd_score = interpreter.aug_execute(initial_prompts, init_state, question, pre_instruct, prompt_examples, task='agqa')\n",
    "        # print(result)\n",
    "        # print(prog_state)\n",
    "        test[idx][\"predict\"] = result\n",
    "        test[idx][\"ct_score\"] = ct_score\n",
    "        test[idx][\"cd_score\"] = cd_score\n",
    "    else:\n",
    "        result = test[idx][\"predict\"]\n",
    "        ct_score = test[idx][\"ct_score\"]\n",
    "        cd_score = test[idx][\"cd_score\"]\n",
    "        eval_ct_cnt = 1\n",
    "    eval_pred += int(result == answer)\n",
    "    eval_ct_score += ct_score\n",
    "    # if ct_score:\n",
    "    #     eval_ct_cnt += 1\n",
    "    eval_cnt += 1\n",
    "    if eval_cnt % 100 == 0:\n",
    "        print(f'step {eval_cnt} accuracy: ', round(eval_pred/eval_cnt, 2), 'ct_score: ', round(eval_ct_score/eval_cnt * 100, 2))\n",
    "\n",
    "print(\"accuracy: \", eval_pred / len(test.keys()))\n",
    "print('ct_score: ', eval_ct_score / eval_ct_cnt * 100)\n",
    "\n",
    "result_file = os.path.join(Path.home(), 'codes/ExoViP/results/agqa/exovip_agqa.json')\n",
    "with open(result_file, 'w') as jp:\n",
    "    json.dump(test, jp)\n",
    "\n"
   ]
  }
 ],
 "metadata": {
  "kernelspec": {
   "display_name": "Python 3 (ipykernel)",
   "language": "python",
   "name": "python3"
  },
  "language_info": {
   "codemirror_mode": {
    "name": "ipython",
    "version": 3
   },
   "file_extension": ".py",
   "mimetype": "text/x-python",
   "name": "python",
   "nbconvert_exporter": "python",
   "pygments_lexer": "ipython3",
   "version": "3.8.13"
  }
 },
 "nbformat": 4,
 "nbformat_minor": 4
}
