{
 "cells": [
  {
   "cell_type": "code",
   "execution_count": null,
   "metadata": {},
   "outputs": [],
   "source": [
    "import os\n",
    "import sys\n",
    "import json\n",
    "from pathlib import Path\n",
    "module_path = os.path.abspath(os.path.join('..'))\n",
    "if module_path not in sys.path:\n",
    "    sys.path.append(module_path)\n",
    "os.environ['CUDAIDX'] = 'cuda:0'\n",
    "\n",
    "import random\n",
    "random.seed(42)"
   ]
  },
  {
   "cell_type": "code",
   "execution_count": null,
   "metadata": {},
   "outputs": [],
   "source": [
    "%env OPENAI_API_KEY=xxx\n",
    "%env OPENAI_API_BASE=xxx"
   ]
  },
  {
   "cell_type": "code",
   "execution_count": null,
   "metadata": {
    "editable": true,
    "slideshow": {
     "slide_type": ""
    },
    "tags": []
   },
   "outputs": [],
   "source": [
    "from PIL import Image\n",
    "from IPython.display import HTML, display\n",
    "from functools import partial\n",
    "\n",
    "from engine.utils import ProgramGenerator, ProgramInterpreter\n",
    "from prompts.gqa import GQA_CURATED_EXAMPLES"
   ]
  },
  {
   "cell_type": "code",
   "execution_count": null,
   "metadata": {},
   "outputs": [],
   "source": [
    "interpreter = ProgramInterpreter(dataset='gqa')"
   ]
  },
  {
   "cell_type": "code",
   "execution_count": null,
   "metadata": {},
   "outputs": [],
   "source": [
    "def create_prompt(inputs,num_prompts=8,method='random',seed=42,group=0):\n",
    "    if method=='all':\n",
    "        prompt_examples = GQA_CURATED_EXAMPLES\n",
    "    elif method=='random':\n",
    "        # random.seed(seed)\n",
    "        prompt_examples = random.sample(GQA_CURATED_EXAMPLES,num_prompts)\n",
    "    else:\n",
    "        raise NotImplementedError\n",
    "\n",
    "    prompt_examples = '\\n'.join(prompt_examples)\n",
    "    prompt_examples = f\"\"\"Considering the examples provided:\\n\\n\n",
    "    {prompt_examples}\n",
    "    \"\"\"\n",
    "\n",
    "    return prompt_examples + \"\\nQuestion: {question}\\nProgram:\".format(**inputs)\n",
    "\n",
    "prompter = partial(create_prompt,method='all')\n",
    "generator = ProgramGenerator(prompter=prompter,dataset='gqa')"
   ]
  },
  {
   "cell_type": "code",
   "execution_count": null,
   "metadata": {
    "editable": true,
    "slideshow": {
     "slide_type": ""
    },
    "tags": []
   },
   "outputs": [],
   "source": [
    "from tqdm import tqdm\n",
    "test_file = os.path.join(Path.home(), 'codes/ExoViP/datasets/gqa/test.json')\n",
    "with open(test_file) as jp:\n",
    "    test = json.load(jp)\n",
    "eval_pred = 0\n",
    "eval_cnt = 0\n",
    "eval_ct_score = 0\n",
    "eval_ct_cnt = 0\n",
    "\n",
    "for idx, dct in tqdm(test.items()):\n",
    "    img_id = dct['imageId']\n",
    "    img_path = os.path.join(Path.home(), 'codes/ExoViP/datasets/gqa/imgs', img_id + '.jpg')\n",
    "    image = Image.open(img_path)\n",
    "    image.thumbnail((640, 640), Image.Resampling.LANCZOS)\n",
    "    init_state = dict(\n",
    "        IMAGE=image.convert(\"RGB\"),\n",
    "        CT_SCORE=0,\n",
    "    )\n",
    "\n",
    "    question = dct['question']\n",
    "    answer = dct['answer']\n",
    "    type = dct['type']\n",
    "    if 'predict' not in test[idx]:\n",
    "        # prog,_ = generator.generate(dict(question=question))\n",
    "        # result, prog_state = interpreter.execute(prog,init_state,inspect=False)\n",
    "        # break\n",
    "        results = []\n",
    "        ct_scores = []\n",
    "        \n",
    "        initial_prompts = []\n",
    "        initial_prompts.append(generator.generate_prompt(dict(question=question)))\n",
    "        result, prog_state = interpreter.aug_execute(initial_prompts, init_state)\n",
    "        # print(result)\n",
    "        # print(prog_state)\n",
    "        ct_score = prog_state[\"CT_SCORE\"]\n",
    "        test[idx][\"predict\"] = result\n",
    "        test[idx][\"ct_score\"] = ct_score\n",
    "    else:\n",
    "        result = test[idx][\"predict\"]\n",
    "        ct_score = test[idx][\"ct_score\"]\n",
    "        eval_ct_cnt = 1\n",
    "    eval_pred += int(result == answer)\n",
    "    eval_ct_score += ct_score\n",
    "    # if ct_score:\n",
    "    #     eval_ct_cnt += 1\n",
    "    eval_cnt += 1\n",
    "    if eval_cnt % 100 == 0:\n",
    "        print(f'step {eval_cnt} accuracy: ', round(eval_pred/eval_cnt, 2), 'ct_score: ', round(eval_ct_score/eval_cnt * 100, 2))\n",
    "\n",
    "print(\"accuracy: \", eval_pred / len(test.keys()))\n",
    "print('ct_score: ', eval_ct_score / eval_ct_cnt * 100)\n",
    "\n",
    "result_file = os.path.join(Path.home(), 'codes/ExoViP/results/gqa/exovip_gqa.json')\n",
    "with open(result_file, 'w') as jp:\n",
    "    json.dump(test, jp)\n",
    "\n"
   ]
  }
 ],
 "metadata": {
  "kernelspec": {
   "display_name": "Python 3 (ipykernel)",
   "language": "python",
   "name": "python3"
  },
  "language_info": {
   "codemirror_mode": {
    "name": "ipython",
    "version": 3
   },
   "file_extension": ".py",
   "mimetype": "text/x-python",
   "name": "python",
   "nbconvert_exporter": "python",
   "pygments_lexer": "ipython3",
   "version": "3.8.13"
  }
 },
 "nbformat": 4,
 "nbformat_minor": 4
}
